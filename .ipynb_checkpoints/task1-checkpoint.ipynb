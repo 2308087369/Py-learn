{
 "cells": [
  {
   "cell_type": "markdown",
   "id": "b0bf58d4-3602-44fd-a363-0ee04200c774",
   "metadata": {},
   "source": [
    "1.编写一个程序，输出\"Hello, World!\""
   ]
  },
  {
   "cell_type": "code",
   "execution_count": 1,
   "id": "08e68f9d-8825-45ab-8745-2c5dccbc769e",
   "metadata": {},
   "outputs": [
    {
     "name": "stdout",
     "output_type": "stream",
     "text": [
      "Hello, world\n"
     ]
    }
   ],
   "source": [
    "print('Hello, world')"
   ]
  },
  {
   "cell_type": "markdown",
   "id": "744dbd66-207c-416e-b92f-41ed9cae94bb",
   "metadata": {},
   "source": [
    "2.编写一个程序，接受两个整数输入，并输出它们的和、差、积和商"
   ]
  },
  {
   "cell_type": "code",
   "execution_count": 2,
   "id": "cb106afc-6a06-425d-9e4a-be8a24952282",
   "metadata": {},
   "outputs": [
    {
     "name": "stdin",
     "output_type": "stream",
     "text": [
      "first int:  51\n",
      "second int:  64\n"
     ]
    },
    {
     "name": "stdout",
     "output_type": "stream",
     "text": [
      "115 -13 3264 0.796875\n"
     ]
    }
   ],
   "source": [
    "int_a = int(input(\"first int: \"))\n",
    "int_b = int(input(\"second int: \"))\n",
    "int_sum = int_a + int_b\n",
    "int_sub = int_a - int_b\n",
    "int_mul = int_a * int_b\n",
    "int_div = int_a/int_b\n",
    "print(int_sum, int_sub, int_mul, int_div)"
   ]
  },
  {
   "cell_type": "markdown",
   "id": "6225c130-da00-4f6b-a503-67d9de4951b0",
   "metadata": {},
   "source": [
    "3.编写一个程序，创建一个包含10个整数的列表，计算并输出它们的总和和平均值"
   ]
  },
  {
   "cell_type": "code",
   "execution_count": 4,
   "id": "5c099766-c5c5-464e-8da9-df7748a51e32",
   "metadata": {},
   "outputs": [
    {
     "name": "stdout",
     "output_type": "stream",
     "text": [
      "55\n",
      "5.5\n"
     ]
    }
   ],
   "source": [
    "listA = [1,2,3,4,5,6,7,8,9,10]\n",
    "print(sum(listA))\n",
    "print(sum(listA)/10)"
   ]
  },
  {
   "cell_type": "markdown",
   "id": "98b0b490-6a3d-4515-b8f1-4eb154ac14f4",
   "metadata": {},
   "source": [
    "4.编写一个程序，接受一个字符串输入，统计并输出字符串中每个字符出现的次数"
   ]
  },
  {
   "cell_type": "code",
   "execution_count": 8,
   "id": "f9081b5a-5053-4359-810f-8f271f875d08",
   "metadata": {},
   "outputs": [
    {
     "name": "stdin",
     "output_type": "stream",
     "text": [
      "input your string:  sadasfasfaxscxsa\n"
     ]
    },
    {
     "name": "stdout",
     "output_type": "stream",
     "text": [
      "'s': 5\n",
      "'a': 5\n",
      "'d': 1\n",
      "'f': 2\n",
      "'x': 2\n",
      "'c': 1\n"
     ]
    }
   ],
   "source": [
    "str_a = input(\"input your string: \")\n",
    "char_count = {}\n",
    "for str_i in str_a:\n",
    "    if str_i in char_count:\n",
    "        char_count[str_i] += 1\n",
    "    else:\n",
    "        char_count[str_i]=1\n",
    "for char, count in char_count.items():\n",
    "    print(f\"'{char}': {count}\")"
   ]
  },
  {
   "cell_type": "markdown",
   "id": "84ad6e38-1f3b-4819-95eb-fe32044c56a3",
   "metadata": {},
   "source": [
    "5.编写一个函数，判断一个整数是否为质数"
   ]
  },
  {
   "cell_type": "code",
   "execution_count": 11,
   "id": "bd095125-c53c-412a-b3e8-2f49c0346d64",
   "metadata": {},
   "outputs": [
    {
     "name": "stdin",
     "output_type": "stream",
     "text": [
      "input a test number:  97\n"
     ]
    },
    {
     "name": "stdout",
     "output_type": "stream",
     "text": [
      "True\n"
     ]
    }
   ],
   "source": [
    "prime = int(input(\"input a test number: \"))\n",
    "def whether_prime(p):\n",
    "    if p < 2:\n",
    "        return False\n",
    "    for i in range(2,int(p**0.5)+1):\n",
    "        if p % i == 0:\n",
    "            return False\n",
    "    return True\n",
    "print(whether_prime(prime))"
   ]
  },
  {
   "cell_type": "markdown",
   "id": "7db9d493-2866-48e3-aba4-278993ddfc59",
   "metadata": {},
   "source": [
    "6.编写一个函数，计算并返回一个整数的阶乘"
   ]
  },
  {
   "cell_type": "code",
   "execution_count": 14,
   "id": "b6e99698-3c6d-4769-b9d0-57913fd38297",
   "metadata": {},
   "outputs": [
    {
     "name": "stdin",
     "output_type": "stream",
     "text": [
      "input the number: 5\n"
     ]
    },
    {
     "name": "stdout",
     "output_type": "stream",
     "text": [
      "the factorial of your number is:  24\n"
     ]
    }
   ],
   "source": [
    "factorialx = int(input(\"input the number:\" ))\n",
    "f_result = 1\n",
    "for i in range(1, factorialx):\n",
    "    f_result = i*f_result\n",
    "print(\"the factorial of your number is: \",f_result)"
   ]
  },
  {
   "cell_type": "markdown",
   "id": "c2fce40d-a7c6-43d6-a1bb-56644fc5db69",
   "metadata": {},
   "source": [
    "7.编写一个函数，生成并返回前n个斐波那契数"
   ]
  },
  {
   "cell_type": "code",
   "execution_count": 17,
   "id": "808be063-b97d-4067-9b82-595ffe5add7e",
   "metadata": {},
   "outputs": [
    {
     "name": "stdin",
     "output_type": "stream",
     "text": [
      "input the number:  10\n"
     ]
    },
    {
     "name": "stdout",
     "output_type": "stream",
     "text": [
      "[1, 1, 2, 3, 5, 8, 13, 21, 34, 55]\n"
     ]
    }
   ],
   "source": [
    "def Fibonacci_sequence(n):\n",
    "    Flist = [1, 1]\n",
    "    if n>2:\n",
    "        for i in range(2,n):\n",
    "            last_1 = Flist[i-2]\n",
    "            last_2 = Flist[i-1]\n",
    "            Flist.append(last_1+last_2)\n",
    "    return Flist\n",
    "n = int(input(\"input the number: \"))\n",
    "fibonaccilist = Fibonacci_sequence(n)\n",
    "print(fibonaccilist)\n",
    "        "
   ]
  },
  {
   "cell_type": "markdown",
   "id": "a9e5a722-b82f-4e42-901d-995998b90cb4",
   "metadata": {},
   "source": [
    "8.编写一个函数，使用冒泡排序算法对一个列表进行排序"
   ]
  },
  {
   "cell_type": "code",
   "execution_count": 24,
   "id": "1ad4570f-10f3-43e1-8667-0bfe6503b476",
   "metadata": {},
   "outputs": [
    {
     "name": "stdin",
     "output_type": "stream",
     "text": [
      "input a list and split by ',' 10,9,8,7,3,5,6,2\n"
     ]
    },
    {
     "name": "stdout",
     "output_type": "stream",
     "text": [
      "original list is:  [10, 9, 8, 7, 3, 5, 6, 2]\n",
      "new list by pop search:  [2, 3, 5, 6, 7, 8, 9, 10]\n"
     ]
    }
   ],
   "source": [
    "searchlist0 = input(\"input a list and split by ','\").split(\",\")\n",
    "searchlist = [int(item) for item in searchlist0]\n",
    "print(\"original list is: \",searchlist)\n",
    "def popsearch(listx):\n",
    "    for i in range(1,len(listx)):\n",
    "        for j in range(0,len(listx)-1):\n",
    "            if listx[i] < listx[j]:\n",
    "                listx[i],listx[j] = listx[j],listx[i]\n",
    "    return listx\n",
    "print(\"new list by pop search: \", popsearch(searchlist))\n",
    "        "
   ]
  },
  {
   "cell_type": "markdown",
   "id": "f77ae491-ab81-4c41-935c-0696fdc3cb2a",
   "metadata": {},
   "source": [
    "9.简单的类,写一个类Person，包含姓名和年龄属性，以及一个方法greet，输出\"Hello, my name is {name} and I am {age} years old.\""
   ]
  },
  {
   "cell_type": "code",
   "execution_count": 28,
   "id": "befd491b-5706-48f7-9e74-44e0c9c4fb68",
   "metadata": {},
   "outputs": [
    {
     "name": "stdout",
     "output_type": "stream",
     "text": [
      "Hello, my name is Chen and I am 25 years old\n"
     ]
    }
   ],
   "source": [
    "class Person:\n",
    "    def __init__(self, name, age):\n",
    "        self.name = name\n",
    "        self.age = age\n",
    "    def greet(self):\n",
    "        print(f\"Hello, my name is {self.name} and I am {self.age} years old\")\n",
    "person = Person(\"Chen\",25)\n",
    "person.greet()"
   ]
  },
  {
   "cell_type": "markdown",
   "id": "b8d714c9-adb9-46fb-b00e-6d146c8329f6",
   "metadata": {},
   "source": [
    "10.编写一个类Student继承自Person，增加一个属性grade，并重写greet方法，输出\"Hello, my name is {name}, I am {age} years old, and I am in grade {grade}.\""
   ]
  },
  {
   "cell_type": "code",
   "execution_count": 31,
   "id": "60236ef4-bea4-46ce-aff7-bfdcb42c1ecb",
   "metadata": {},
   "outputs": [
    {
     "name": "stdout",
     "output_type": "stream",
     "text": [
      "Helle,my name is Chen, I am 25 years old, and I am in grade 3\n"
     ]
    }
   ],
   "source": [
    "class Student(Person):\n",
    "    def __init__(self,name,age,grade):\n",
    "        super().__init__(name,age)\n",
    "        self.grade = grade\n",
    "    def greet(self):\n",
    "        print(f\"Helle,my name is {self.name}, I am {self.age} years old, and I am in grade {self.grade}\")\n",
    "student = Student(\"Chen\",25,3)\n",
    "student.greet()"
   ]
  },
  {
   "cell_type": "code",
   "execution_count": null,
   "id": "9f6ef901-31ea-47f2-b89a-3ae1fcd5f231",
   "metadata": {},
   "outputs": [],
   "source": []
  }
 ],
 "metadata": {
  "kernelspec": {
   "display_name": "Python (my_ml_env)",
   "language": "python",
   "name": "my_ml_env"
  },
  "language_info": {
   "codemirror_mode": {
    "name": "ipython",
    "version": 3
   },
   "file_extension": ".py",
   "mimetype": "text/x-python",
   "name": "python",
   "nbconvert_exporter": "python",
   "pygments_lexer": "ipython3",
   "version": "3.10.12"
  }
 },
 "nbformat": 4,
 "nbformat_minor": 5
}
